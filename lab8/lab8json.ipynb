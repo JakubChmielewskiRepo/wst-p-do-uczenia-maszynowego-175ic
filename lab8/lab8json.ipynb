{
  "nbformat": 4,
  "nbformat_minor": 0,
  "metadata": {
    "colab": {
      "name": "lab8json.ipynb",
      "provenance": [],
      "authorship_tag": "ABX9TyPDhdjijwpl0McS3dHr4nfh",
      "include_colab_link": true
    },
    "kernelspec": {
      "name": "python3",
      "display_name": "Python 3"
    }
  },
  "cells": [
    {
      "cell_type": "markdown",
      "metadata": {
        "id": "view-in-github",
        "colab_type": "text"
      },
      "source": [
        "<a href=\"https://colab.research.google.com/github/JakubChmielewskiRepo/wstep-do-uczenia-maszynowego-175ic/blob/master/lab8/lab8json.ipynb\" target=\"_parent\"><img src=\"https://colab.research.google.com/assets/colab-badge.svg\" alt=\"Open In Colab\"/></a>"
      ]
    },
    {
      "cell_type": "code",
      "metadata": {
        "id": "zgjhj4uRDHGy"
      },
      "source": [
        "import json\r\n",
        "import requests"
      ],
      "execution_count": null,
      "outputs": []
    },
    {
      "cell_type": "code",
      "metadata": {
        "id": "xLzAdYCWDrZX"
      },
      "source": [
        "data = {\r\n",
        "\"president\": {\r\n",
        "\"name\": \"Zaphod Beeblebrox\",\r\n",
        "\"species\": \"Betelgeusian\"\r\n",
        "    }\r\n",
        "}\r\n",
        "\r\n",
        "with open(\"data_file.json\", \"w\") as write_file:\r\n",
        "  json.dump(data, write_file)\r\n",
        "\r\n",
        "  "
      ],
      "execution_count": 34,
      "outputs": []
    },
    {
      "cell_type": "code",
      "metadata": {
        "id": "ZGLMYW6wGKX3"
      },
      "source": [
        "json_string = json.dumps(data)"
      ],
      "execution_count": 35,
      "outputs": []
    },
    {
      "cell_type": "code",
      "metadata": {
        "colab": {
          "base_uri": "https://localhost:8080/",
          "height": 35
        },
        "id": "kb6g15wGGu0D",
        "outputId": "8b5dac7c-f33d-4a71-8983-16a4baab3074"
      },
      "source": [
        "json.dumps(data, indent=1)"
      ],
      "execution_count": 36,
      "outputs": [
        {
          "output_type": "execute_result",
          "data": {
            "application/vnd.google.colaboratory.intrinsic+json": {
              "type": "string"
            },
            "text/plain": [
              "'{\\n \"president\": {\\n  \"name\": \"Zaphod Beeblebrox\",\\n  \"species\": \"Betelgeusian\"\\n }\\n}'"
            ]
          },
          "metadata": {
            "tags": []
          },
          "execution_count": 36
        }
      ]
    },
    {
      "cell_type": "code",
      "metadata": {
        "colab": {
          "base_uri": "https://localhost:8080/"
        },
        "id": "JogNcBiBIVHn",
        "outputId": "ea99c548-7d70-41c5-d2f7-bf19592c3112"
      },
      "source": [
        "blackjack_hand = (8, \"Q\")\r\n",
        "encoded_hand = json.dumps(blackjack_hand)\r\n",
        "decoded_hand = json.loads(encoded_hand)\r\n",
        "blackjack_hand == decoded_hand\r\n",
        "\r\n",
        "\r\n",
        "\r\n",
        "\r\n",
        "\r\n",
        "\r\n"
      ],
      "execution_count": 37,
      "outputs": [
        {
          "output_type": "execute_result",
          "data": {
            "text/plain": [
              "False"
            ]
          },
          "metadata": {
            "tags": []
          },
          "execution_count": 37
        }
      ]
    },
    {
      "cell_type": "code",
      "metadata": {
        "colab": {
          "base_uri": "https://localhost:8080/"
        },
        "id": "BqQXYXtCIbH1",
        "outputId": "c0212926-50f2-439e-89e5-b3ea40f11d1a"
      },
      "source": [
        "type(blackjack_hand)\r\n",
        "\r\n"
      ],
      "execution_count": 38,
      "outputs": [
        {
          "output_type": "execute_result",
          "data": {
            "text/plain": [
              "tuple"
            ]
          },
          "metadata": {
            "tags": []
          },
          "execution_count": 38
        }
      ]
    },
    {
      "cell_type": "code",
      "metadata": {
        "colab": {
          "base_uri": "https://localhost:8080/"
        },
        "id": "iBUINY6PIqEw",
        "outputId": "c01ae47e-c8b4-4b1d-df23-7e69629c4bf9"
      },
      "source": [
        "type(decoded_hand)"
      ],
      "execution_count": 39,
      "outputs": [
        {
          "output_type": "execute_result",
          "data": {
            "text/plain": [
              "list"
            ]
          },
          "metadata": {
            "tags": []
          },
          "execution_count": 39
        }
      ]
    },
    {
      "cell_type": "code",
      "metadata": {
        "colab": {
          "base_uri": "https://localhost:8080/"
        },
        "id": "SPBRG6g7IqYW",
        "outputId": "06056fce-d311-48a9-939c-360cb8c8d020"
      },
      "source": [
        "blackjack_hand == tuple(decoded_hand)"
      ],
      "execution_count": 40,
      "outputs": [
        {
          "output_type": "execute_result",
          "data": {
            "text/plain": [
              "True"
            ]
          },
          "metadata": {
            "tags": []
          },
          "execution_count": 40
        }
      ]
    },
    {
      "cell_type": "code",
      "metadata": {
        "colab": {
          "base_uri": "https://localhost:8080/"
        },
        "id": "FErL_DA-Iytr",
        "outputId": "7adc1b2c-22eb-467a-90c4-8b9ada416dfb"
      },
      "source": [
        "with open(\"data_file.json\", \"r\") as read_file:\r\n",
        "  data = json.load(read_file)\r\n",
        "print(data)"
      ],
      "execution_count": 41,
      "outputs": [
        {
          "output_type": "stream",
          "text": [
            "{'president': {'name': 'Zaphod Beeblebrox', 'species': 'Betelgeusian'}}\n"
          ],
          "name": "stdout"
        }
      ]
    },
    {
      "cell_type": "code",
      "metadata": {
        "colab": {
          "base_uri": "https://localhost:8080/"
        },
        "id": "tSutI9H2JBg6",
        "outputId": "cd3ec74c-5f4a-4e4a-8f37-4ef09d2871ed"
      },
      "source": [
        "json_string = \"\"\"\r\n",
        "{\r\n",
        "    \"researcher\": {\r\n",
        "        \"name\": \"Ford Prefect\",\r\n",
        "        \"species\": \"Betelgeusian\",\r\n",
        "        \"relatives\": [\r\n",
        "            {\r\n",
        "                \"name\": \"Zaphod Beeblebrox\",\r\n",
        "                \"species\": \"Betelgeusian\"\r\n",
        "            }\r\n",
        "        ]\r\n",
        "    }\r\n",
        "}\r\n",
        "\"\"\"\r\n",
        "data = json.loads(json_string)\r\n",
        "print(data)"
      ],
      "execution_count": 42,
      "outputs": [
        {
          "output_type": "stream",
          "text": [
            "{'researcher': {'name': 'Ford Prefect', 'species': 'Betelgeusian', 'relatives': [{'name': 'Zaphod Beeblebrox', 'species': 'Betelgeusian'}]}}\n"
          ],
          "name": "stdout"
        }
      ]
    },
    {
      "cell_type": "code",
      "metadata": {
        "id": "ntK23gDxKOd8"
      },
      "source": [
        "response = requests.get(\"https://jsonplaceholder.typicode.com/todos\")\r\n",
        "todos = json.loads(response.text)\r\n"
      ],
      "execution_count": 43,
      "outputs": []
    },
    {
      "cell_type": "code",
      "metadata": {
        "colab": {
          "base_uri": "https://localhost:8080/"
        },
        "id": "4es80KfVK8Va",
        "outputId": "f8c3c039-b05d-474a-e58e-29e9e741c900"
      },
      "source": [
        "todos == response.json()"
      ],
      "execution_count": 44,
      "outputs": [
        {
          "output_type": "execute_result",
          "data": {
            "text/plain": [
              "True"
            ]
          },
          "metadata": {
            "tags": []
          },
          "execution_count": 44
        }
      ]
    },
    {
      "cell_type": "code",
      "metadata": {
        "colab": {
          "base_uri": "https://localhost:8080/"
        },
        "id": "bhyEGqXcK9ih",
        "outputId": "3b0ea848-4f5f-4c64-806c-dc3b73294589"
      },
      "source": [
        "type(todos)"
      ],
      "execution_count": 45,
      "outputs": [
        {
          "output_type": "execute_result",
          "data": {
            "text/plain": [
              "list"
            ]
          },
          "metadata": {
            "tags": []
          },
          "execution_count": 45
        }
      ]
    },
    {
      "cell_type": "code",
      "metadata": {
        "colab": {
          "base_uri": "https://localhost:8080/"
        },
        "id": "vj_3oNVnLAJ4",
        "outputId": "9e7dcadf-8793-49fe-b5d2-0efd5c4ee8a9"
      },
      "source": [
        "todos[:10]"
      ],
      "execution_count": 46,
      "outputs": [
        {
          "output_type": "execute_result",
          "data": {
            "text/plain": [
              "[{'completed': False, 'id': 1, 'title': 'delectus aut autem', 'userId': 1},\n",
              " {'completed': False,\n",
              "  'id': 2,\n",
              "  'title': 'quis ut nam facilis et officia qui',\n",
              "  'userId': 1},\n",
              " {'completed': False, 'id': 3, 'title': 'fugiat veniam minus', 'userId': 1},\n",
              " {'completed': True, 'id': 4, 'title': 'et porro tempora', 'userId': 1},\n",
              " {'completed': False,\n",
              "  'id': 5,\n",
              "  'title': 'laboriosam mollitia et enim quasi adipisci quia provident illum',\n",
              "  'userId': 1},\n",
              " {'completed': False,\n",
              "  'id': 6,\n",
              "  'title': 'qui ullam ratione quibusdam voluptatem quia omnis',\n",
              "  'userId': 1},\n",
              " {'completed': False,\n",
              "  'id': 7,\n",
              "  'title': 'illo expedita consequatur quia in',\n",
              "  'userId': 1},\n",
              " {'completed': True,\n",
              "  'id': 8,\n",
              "  'title': 'quo adipisci enim quam ut ab',\n",
              "  'userId': 1},\n",
              " {'completed': False,\n",
              "  'id': 9,\n",
              "  'title': 'molestiae perspiciatis ipsa',\n",
              "  'userId': 1},\n",
              " {'completed': True,\n",
              "  'id': 10,\n",
              "  'title': 'illo est ratione doloremque quia maiores aut',\n",
              "  'userId': 1}]"
            ]
          },
          "metadata": {
            "tags": []
          },
          "execution_count": 46
        }
      ]
    },
    {
      "cell_type": "code",
      "metadata": {
        "id": "xy2Zp3jPLNFt"
      },
      "source": [
        "# Map of userId to number of complete TODOs for that user\r\n",
        "todos_by_user = {}\r\n",
        "\r\n",
        "# Increment complete TODOs count for each user.\r\n",
        "for todo in todos:\r\n",
        "    if todo[\"completed\"]:\r\n",
        "        try:\r\n",
        "            # Increment the existing user's count.\r\n",
        "            todos_by_user[todo[\"userId\"]] += 1\r\n",
        "        except KeyError:\r\n",
        "            # This user has not been seen. Set their count to 1.\r\n",
        "            todos_by_user[todo[\"userId\"]] = 1\r\n",
        "\r\n",
        "# Create a sorted list of (userId, num_complete) pairs.\r\n",
        "top_users = sorted(todos_by_user.items(), \r\n",
        "                   key=lambda x: x[1], reverse=True)\r\n",
        "\r\n",
        "# Get the maximum number of complete TODOs.\r\n",
        "max_complete = top_users[0][1]\r\n",
        "\r\n",
        "# Create a list of all users who have completed\r\n",
        "# the maximum number of TODOs.\r\n",
        "users = []\r\n",
        "for user, num_complete in top_users:\r\n",
        "    if num_complete < max_complete:\r\n",
        "        break\r\n",
        "    users.append(str(user))\r\n",
        "\r\n",
        "max_users = \" and \".join(users)"
      ],
      "execution_count": 47,
      "outputs": []
    },
    {
      "cell_type": "code",
      "metadata": {
        "colab": {
          "base_uri": "https://localhost:8080/"
        },
        "id": "Fys8CZW_45CD",
        "outputId": "549765c4-36a2-4195-c38e-67770eef83a4"
      },
      "source": [
        "s = \"s\" if len(users) > 1 else \"\"\r\n",
        "print(f\"user{s} {max_users} completed {max_complete} TODOs\")"
      ],
      "execution_count": 48,
      "outputs": [
        {
          "output_type": "stream",
          "text": [
            "users 5 and 10 completed 12 TODOs\n"
          ],
          "name": "stdout"
        }
      ]
    },
    {
      "cell_type": "code",
      "metadata": {
        "id": "9bgFDNbS5D12"
      },
      "source": [
        "# Define a function to filter out completed TODOs \r\n",
        "# of users with max completed TODOS.\r\n",
        "def keep(todo):\r\n",
        "    is_complete = todo[\"completed\"]\r\n",
        "    has_max_count = str(todo[\"userId\"]) in users\r\n",
        "    return is_complete and has_max_count\r\n",
        "\r\n",
        "# Write filtered TODOs to file.\r\n",
        "with open(\"filtered_data_file.json\", \"w\") as data_file:\r\n",
        "    filtered_todos = list(filter(keep, todos))\r\n",
        "    json.dump(filtered_todos, data_file, indent=2)"
      ],
      "execution_count": 49,
      "outputs": []
    },
    {
      "cell_type": "code",
      "metadata": {
        "colab": {
          "base_uri": "https://localhost:8080/",
          "height": 35
        },
        "id": "PVBjLX7R6vGx",
        "outputId": "07c54c0e-6cdf-4ece-a1e7-c6a59292f84a"
      },
      "source": [
        "#Encoding custom types\r\n",
        "def encode_complex(z):\r\n",
        "    if isinstance(z, complex):\r\n",
        "        return (z.real, z.imag)\r\n",
        "    else:\r\n",
        "        type_name = z.__class__.__name__\r\n",
        "        raise TypeError(f\"Object of type '{type_name}' is not JSON serializable\")\r\n",
        "json.dumps(9 + 5j, default=encode_complex)"
      ],
      "execution_count": 50,
      "outputs": [
        {
          "output_type": "execute_result",
          "data": {
            "application/vnd.google.colaboratory.intrinsic+json": {
              "type": "string"
            },
            "text/plain": [
              "'[9.0, 5.0]'"
            ]
          },
          "metadata": {
            "tags": []
          },
          "execution_count": 50
        }
      ]
    },
    {
      "cell_type": "code",
      "metadata": {
        "colab": {
          "base_uri": "https://localhost:8080/",
          "height": 35
        },
        "id": "Cn2Zt_RK8oKU",
        "outputId": "d5361980-caad-45f6-f027-ccf74399a152"
      },
      "source": [
        "#Overriding default method\r\n",
        "class ComplexEncoder(json.JSONEncoder):\r\n",
        "    def default(self, z):\r\n",
        "        if isinstance(z, complex):\r\n",
        "            return (z.real, z.imag)\r\n",
        "        else:\r\n",
        "            return super().default(z)\r\n",
        "\r\n",
        "json.dumps(2 + 5j, cls=ComplexEncoder)\r\n",
        "encoder = ComplexEncoder()\r\n",
        "encoder.encode(3 + 6j)"
      ],
      "execution_count": 51,
      "outputs": [
        {
          "output_type": "execute_result",
          "data": {
            "application/vnd.google.colaboratory.intrinsic+json": {
              "type": "string"
            },
            "text/plain": [
              "'[3.0, 6.0]'"
            ]
          },
          "metadata": {
            "tags": []
          },
          "execution_count": 51
        }
      ]
    },
    {
      "cell_type": "code",
      "metadata": {
        "colab": {
          "base_uri": "https://localhost:8080/"
        },
        "id": "Y0JXJKt186cJ",
        "outputId": "dbb9430d-9427-4555-9333-276f08c02495"
      },
      "source": [
        "#decoding custom types\r\n",
        "complex_json = json.dumps(4 + 17j, cls=ComplexEncoder)\r\n",
        "json.loads(complex_json)"
      ],
      "execution_count": 52,
      "outputs": [
        {
          "output_type": "execute_result",
          "data": {
            "text/plain": [
              "[4.0, 17.0]"
            ]
          },
          "metadata": {
            "tags": []
          },
          "execution_count": 52
        }
      ]
    },
    {
      "cell_type": "code",
      "metadata": {
        "id": "nlCTFUfn9Mbm"
      },
      "source": [
        "#verifying existence of the key\r\n",
        "def decode_complex(dct):\r\n",
        "    if \"__complex__\" in dct:\r\n",
        "        return complex(dct[\"real\"], dct[\"imag\"])\r\n",
        "    return dct"
      ],
      "execution_count": 54,
      "outputs": []
    }
  ]
}