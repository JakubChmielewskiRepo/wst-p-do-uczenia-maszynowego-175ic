{
  "nbformat": 4,
  "nbformat_minor": 0,
  "metadata": {
    "colab": {
      "name": "lab8csv.ipynb",
      "provenance": [],
      "authorship_tag": "ABX9TyNh7yAOeD0FWnILV1/TvSpi",
      "include_colab_link": true
    },
    "kernelspec": {
      "name": "python3",
      "display_name": "Python 3"
    }
  },
  "cells": [
    {
      "cell_type": "markdown",
      "metadata": {
        "id": "view-in-github",
        "colab_type": "text"
      },
      "source": [
        "<a href=\"https://colab.research.google.com/github/JakubChmielewskiRepo/wstep-do-uczenia-maszynowego-175ic/blob/master/lab8/lab8csv.ipynb\" target=\"_parent\"><img src=\"https://colab.research.google.com/assets/colab-badge.svg\" alt=\"Open In Colab\"/></a>"
      ]
    },
    {
      "cell_type": "code",
      "metadata": {
        "id": "CFlBctkLB1rQ"
      },
      "source": [
        "import csv\r\n",
        "import pandas"
      ],
      "execution_count": 5,
      "outputs": []
    },
    {
      "cell_type": "code",
      "metadata": {
        "colab": {
          "base_uri": "https://localhost:8080/"
        },
        "id": "iG9Vv9CmHgNN",
        "outputId": "b48b3a6f-890d-429c-bd7d-3ad939ac90a7"
      },
      "source": [
        "#Reading CSV file\r\n",
        "with open('employee_birthday.txt') as csv_file:\r\n",
        "    csv_reader = csv.reader(csv_file, delimiter=',')\r\n",
        "    line_count = 0\r\n",
        "    for row in csv_reader:\r\n",
        "        if line_count == 0:\r\n",
        "            print(f'Column names are {\", \".join(row)}')\r\n",
        "            line_count += 1\r\n",
        "        else:\r\n",
        "            print(f'\\t{row[0]} works in the {row[1]} department, and was born in {row[2]}.')\r\n",
        "            line_count += 1\r\n",
        "    print(f'Processed {line_count} lines.')"
      ],
      "execution_count": 2,
      "outputs": [
        {
          "output_type": "stream",
          "text": [
            "Column names are name, department, birthday month\n",
            "\tJohn Smith works in the Accounting department, and was born in November.\n",
            "\tErica Meyers works in the IT department, and was born in March.\n",
            "Processed 3 lines.\n"
          ],
          "name": "stdout"
        }
      ]
    },
    {
      "cell_type": "code",
      "metadata": {
        "colab": {
          "base_uri": "https://localhost:8080/"
        },
        "id": "1qTPPHjKJERs",
        "outputId": "b0619ddf-b30c-4bb7-c14c-b5dddba1c441"
      },
      "source": [
        "#Reading CSV file as dictionary\r\n",
        "with open('employee_birthday.txt', mode='r') as csv_file:\r\n",
        "    csv_reader = csv.DictReader(csv_file)\r\n",
        "    line_count = 0\r\n",
        "    for row in csv_reader:\r\n",
        "        if line_count == 0:\r\n",
        "            print(f'Column names are {\", \".join(row)}')\r\n",
        "            line_count += 1\r\n",
        "        print(f'\\t{row[\"name\"]} works in the {row[\"department\"]} department, and was born in {row[\"birthday month\"]}.')\r\n",
        "        line_count += 1\r\n",
        "    print(f'Processed {line_count} lines.')"
      ],
      "execution_count": 3,
      "outputs": [
        {
          "output_type": "stream",
          "text": [
            "Column names are name, department, birthday month\n",
            "\tJohn Smith works in the Accounting department, and was born in November.\n",
            "\tErica Meyers works in the IT department, and was born in March.\n",
            "Processed 3 lines.\n"
          ],
          "name": "stdout"
        }
      ]
    },
    {
      "cell_type": "code",
      "metadata": {
        "id": "bUucfNqOLHXp"
      },
      "source": [
        "#writing to CSV file\r\n",
        "with open('employee_file.csv', mode='w') as employee_file:\r\n",
        "    employee_writer = csv.writer(employee_file, delimiter=',', quotechar='\"', quoting=csv.QUOTE_MINIMAL)\r\n",
        "\r\n",
        "    employee_writer.writerow(['John Smith', 'Accounting', 'November'])\r\n",
        "    employee_writer.writerow(['Erica Meyers', 'IT', 'March'])"
      ],
      "execution_count": 4,
      "outputs": []
    },
    {
      "cell_type": "code",
      "metadata": {
        "id": "kebWUK1HIkni"
      },
      "source": [
        "#writing to CSV file with a dictionary\r\n",
        "with open('employee_file2.csv', mode='w') as csv_file:\r\n",
        "    fieldnames = ['emp_name', 'dept', 'birth_month']\r\n",
        "    writer = csv.DictWriter(csv_file, fieldnames=fieldnames)\r\n",
        "\r\n",
        "    writer.writeheader()\r\n",
        "    writer.writerow({'emp_name': 'John Smith', 'dept': 'Accounting', 'birth_month': 'November'})\r\n",
        "    writer.writerow({'emp_name': 'Erica Meyers', 'dept': 'IT', 'birth_month': 'March'})"
      ],
      "execution_count": null,
      "outputs": []
    },
    {
      "cell_type": "code",
      "metadata": {
        "colab": {
          "base_uri": "https://localhost:8080/"
        },
        "id": "XsV5g9QtNccq",
        "outputId": "547aa600-33a0-4cd1-ce69-ead3286a224e"
      },
      "source": [
        "df = pandas.read_csv('hrdata.csv')\r\n",
        "print(df)"
      ],
      "execution_count": 6,
      "outputs": [
        {
          "output_type": "stream",
          "text": [
            "             Name Hire Date   Salary  Sick Days remaining\n",
            "0  Graham Chapman  03/15/14  50000.0                   10\n",
            "1     John Cleese  06/01/15  65000.0                    8\n",
            "2       Eric Idle  05/12/14  45000.0                   10\n",
            "3     Terry Jones  11/01/13  70000.0                    3\n",
            "4   Terry Gilliam  08/12/14  48000.0                    7\n",
            "5   Michael Palin  05/23/13  66000.0                    8\n"
          ],
          "name": "stdout"
        }
      ]
    },
    {
      "cell_type": "code",
      "metadata": {
        "colab": {
          "base_uri": "https://localhost:8080/"
        },
        "id": "1kyc_j5FO699",
        "outputId": "7840b446-c037-4a25-e481-b6a77e4b5264"
      },
      "source": [
        "#Reading from file as dataframe\r\n",
        "df = pandas.read_csv('hrdata.csv', index_col='Name')\r\n",
        "print(df)"
      ],
      "execution_count": 7,
      "outputs": [
        {
          "output_type": "stream",
          "text": [
            "               Hire Date   Salary  Sick Days remaining\n",
            "Name                                                  \n",
            "Graham Chapman  03/15/14  50000.0                   10\n",
            "John Cleese     06/01/15  65000.0                    8\n",
            "Eric Idle       05/12/14  45000.0                   10\n",
            "Terry Jones     11/01/13  70000.0                    3\n",
            "Terry Gilliam   08/12/14  48000.0                    7\n",
            "Michael Palin   05/23/13  66000.0                    8\n"
          ],
          "name": "stdout"
        }
      ]
    },
    {
      "cell_type": "code",
      "metadata": {
        "colab": {
          "base_uri": "https://localhost:8080/"
        },
        "id": "fapRXW6RPHHP",
        "outputId": "0c4dbcca-cb87-4a45-f80e-f763a46c2c40"
      },
      "source": [
        "#Pasing Hire Date as date\r\n",
        "df = pandas.read_csv('hrdata.csv', index_col='Name', parse_dates=['Hire Date'])\r\n",
        "print(df)"
      ],
      "execution_count": 8,
      "outputs": [
        {
          "output_type": "stream",
          "text": [
            "                Hire Date   Salary  Sick Days remaining\n",
            "Name                                                   \n",
            "Graham Chapman 2014-03-15  50000.0                   10\n",
            "John Cleese    2015-06-01  65000.0                    8\n",
            "Eric Idle      2014-05-12  45000.0                   10\n",
            "Terry Jones    2013-11-01  70000.0                    3\n",
            "Terry Gilliam  2014-08-12  48000.0                    7\n",
            "Michael Palin  2013-05-23  66000.0                    8\n"
          ],
          "name": "stdout"
        }
      ]
    },
    {
      "cell_type": "code",
      "metadata": {
        "colab": {
          "base_uri": "https://localhost:8080/"
        },
        "id": "KsG5vkpCPQ7g",
        "outputId": "0f98ef55-38e1-40f6-f7e3-981abf4762a4"
      },
      "source": [
        "print(type(df['Hire Date'][0]))"
      ],
      "execution_count": 9,
      "outputs": [
        {
          "output_type": "stream",
          "text": [
            "<class 'pandas._libs.tslibs.timestamps.Timestamp'>\n"
          ],
          "name": "stdout"
        }
      ]
    },
    {
      "cell_type": "code",
      "metadata": {
        "colab": {
          "base_uri": "https://localhost:8080/"
        },
        "id": "haOCWY6ePSjE",
        "outputId": "5075fd52-9f23-4a48-f41a-a0acff3f742f"
      },
      "source": [
        "#Reading a file with custom columna names\r\n",
        "df = pandas.read_csv('hrdata.csv', \r\n",
        "            index_col='Employee', \r\n",
        "            parse_dates=['Hired'], \r\n",
        "            header=0, \r\n",
        "            names=['Employee', 'Hired','Salary', 'Sick Days'])\r\n",
        "print(df)"
      ],
      "execution_count": 10,
      "outputs": [
        {
          "output_type": "stream",
          "text": [
            "                    Hired   Salary  Sick Days\n",
            "Employee                                     \n",
            "Graham Chapman 2014-03-15  50000.0         10\n",
            "John Cleese    2015-06-01  65000.0          8\n",
            "Eric Idle      2014-05-12  45000.0         10\n",
            "Terry Jones    2013-11-01  70000.0          3\n",
            "Terry Gilliam  2014-08-12  48000.0          7\n",
            "Michael Palin  2013-05-23  66000.0          8\n"
          ],
          "name": "stdout"
        }
      ]
    },
    {
      "cell_type": "code",
      "metadata": {
        "id": "bE_70CG9PtU_"
      },
      "source": [
        "#Writing dataframe to file\r\n",
        "df = pandas.read_csv('hrdata.csv', \r\n",
        "            index_col='Employee', \r\n",
        "            parse_dates=['Hired'],\r\n",
        "            header=0, \r\n",
        "            names=['Employee', 'Hired', 'Salary', 'Sick Days'])\r\n",
        "df.to_csv('hrdata_modified.csv')"
      ],
      "execution_count": 11,
      "outputs": []
    }
  ]
}