{
  "nbformat": 4,
  "nbformat_minor": 0,
  "metadata": {
    "colab": {
      "name": "lab6.ipynb",
      "provenance": [],
      "authorship_tag": "ABX9TyPz6CWPxBY3eMRsdG60pC7k",
      "include_colab_link": true
    },
    "kernelspec": {
      "name": "python3",
      "display_name": "Python 3"
    }
  },
  "cells": [
    {
      "cell_type": "markdown",
      "metadata": {
        "id": "view-in-github",
        "colab_type": "text"
      },
      "source": [
        "<a href=\"https://colab.research.google.com/github/JakubChmielewskiRepo/wstep-do-uczenia-maszynowego-175ic/blob/master/lab6/lab6.ipynb\" target=\"_parent\"><img src=\"https://colab.research.google.com/assets/colab-badge.svg\" alt=\"Open In Colab\"/></a>"
      ]
    },
    {
      "cell_type": "code",
      "metadata": {
        "colab": {
          "base_uri": "https://localhost:8080/"
        },
        "id": "vvMz4_mNc7gd",
        "outputId": "32e803f4-2846-4b6b-811e-f48fd99f9716"
      },
      "source": [
        "#Załadowanie pliku tekstowego\r\n",
        "file = open('jakub_chmielewski.txt')\r\n",
        "\r\n",
        "#Typ pliku/ typ zwracanego przez plik obiektu.\r\n",
        "type(file)\r\n"
      ],
      "execution_count": 6,
      "outputs": [
        {
          "output_type": "execute_result",
          "data": {
            "text/plain": [
              "_io.TextIOWrapper"
            ]
          },
          "metadata": {
            "tags": []
          },
          "execution_count": 6
        }
      ]
    },
    {
      "cell_type": "code",
      "metadata": {
        "id": "faFyza7DdVi9"
      },
      "source": [
        "#Załadowanie pliku binarnego w trybie tylko do odczytu\r\n",
        "file = open('jakub_chmielewski.txt','rb')\r\n",
        "\r\n",
        "#Typ pliku/ typ zwracanego przez plik obiektu.\r\n",
        "type(file)\r\n",
        "\r\n",
        "#Załadowanie pliku binarnego w trybie do nadpisu\r\n",
        "file = open('jakub_chmielewski.txt','wb')\r\n",
        "\r\n",
        "#Typ pliku/ typ zwracanego przez plik obiektu.\r\n",
        "type(file)\r\n"
      ],
      "execution_count": null,
      "outputs": []
    },
    {
      "cell_type": "code",
      "metadata": {
        "colab": {
          "base_uri": "https://localhost:8080/"
        },
        "id": "E7ng3ufOd3eT",
        "outputId": "d692a806-fc7f-4944-c919-d5af51faf2f1"
      },
      "source": [
        "#Załadowanie pliku Raw\r\n",
        "file = open('jakub_chmielewski.txt', 'rb', buffering=0)\r\n",
        "\r\n",
        "#Typ pliku/ typ zwracanego przez plik obiektu.\r\n",
        "type(file)"
      ],
      "execution_count": 7,
      "outputs": [
        {
          "output_type": "execute_result",
          "data": {
            "text/plain": [
              "_io.FileIO"
            ]
          },
          "metadata": {
            "tags": []
          },
          "execution_count": 7
        }
      ]
    },
    {
      "cell_type": "code",
      "metadata": {
        "colab": {
          "base_uri": "https://localhost:8080/"
        },
        "id": "Se6jswtUejc1",
        "outputId": "feacb26d-aefe-42c2-f941-eebcbdf848a3"
      },
      "source": [
        "with open('jakub_chmielewski.txt', 'r') as reader:\r\n",
        "# Wypisz cały plik\r\n",
        "  print(reader.read())"
      ],
      "execution_count": 10,
      "outputs": [
        {
          "output_type": "stream",
          "text": [
            "Pug\n",
            "Jack Russell Terrier\n",
            "English Springer Spaniel\n",
            "German Shepherd\n",
            "Staffordshire Bull Terrier\n",
            "Cavalier King Charles Spaniel\n",
            "Golden Retriever\n",
            "West Highland White Terrier\n",
            "Boxer\n",
            "Border Terrier\n"
          ],
          "name": "stdout"
        }
      ]
    },
    {
      "cell_type": "code",
      "metadata": {
        "colab": {
          "base_uri": "https://localhost:8080/"
        },
        "id": "XBB3iO4Ae934",
        "outputId": "df48b418-e556-4d85-fdab-6cb94ccb24bb"
      },
      "source": [
        "#Wypisywanie 5 bajtów pliku z każdym wywołaniem metody readline(x razy)\r\n",
        "with open('jakub_chmielewski.txt', 'r') as reader:\r\n",
        "  print(reader.readline(5))\r\n",
        "# Jeżeli przekroczy znak kolejnej linii to kontynuuje w następnej\r\n",
        "  print(reader.readline(5))\r\n",
        "  print(reader.readline(5))\r\n",
        "  print(reader.readline(5))\r\n",
        "  print(reader.readline(5))"
      ],
      "execution_count": 14,
      "outputs": [
        {
          "output_type": "stream",
          "text": [
            "Pug\n",
            "\n",
            "Jack \n",
            "Russe\n",
            "ll Te\n",
            "rrier\n"
          ],
          "name": "stdout"
        }
      ]
    },
    {
      "cell_type": "code",
      "metadata": {
        "colab": {
          "base_uri": "https://localhost:8080/"
        },
        "id": "NX6O_Na8f5Ho",
        "outputId": "c49c88d2-7fea-44e5-84ee-4dc500666315"
      },
      "source": [
        "f = open('jakub_chmielewski.txt')\r\n",
        "\r\n",
        "# Zwrócenie pliku do programu jako listy\r\n",
        "f.readlines()  "
      ],
      "execution_count": 15,
      "outputs": [
        {
          "output_type": "execute_result",
          "data": {
            "text/plain": [
              "['Pug\\n',\n",
              " 'Jack Russell Terrier\\n',\n",
              " 'English Springer Spaniel\\n',\n",
              " 'German Shepherd\\n',\n",
              " 'Staffordshire Bull Terrier\\n',\n",
              " 'Cavalier King Charles Spaniel\\n',\n",
              " 'Golden Retriever\\n',\n",
              " 'West Highland White Terrier\\n',\n",
              " 'Boxer\\n',\n",
              " 'Border Terrier']"
            ]
          },
          "metadata": {
            "tags": []
          },
          "execution_count": 15
        }
      ]
    },
    {
      "cell_type": "code",
      "metadata": {
        "colab": {
          "base_uri": "https://localhost:8080/"
        },
        "id": "E3G9Z8uxgrNF",
        "outputId": "5baf045f-a8c3-41e8-ea08-0688b29aede1"
      },
      "source": [
        "  with open('jakub_chmielewski.txt', 'r') as reader:\r\n",
        "    # Wypisanie pliku linia po linii\r\n",
        "    line = reader.readline()\r\n",
        "    while line != '':  \r\n",
        "      # Znak końca pliku jest pustym stringiem \r\n",
        "      print(line, end='')\r\n",
        "      line = reader.readline()\r\n",
        "\r\n",
        "      "
      ],
      "execution_count": 17,
      "outputs": [
        {
          "output_type": "stream",
          "text": [
            "Pug\n",
            "Jack Russell Terrier\n",
            "English Springer Spaniel\n",
            "German Shepherd\n",
            "Staffordshire Bull Terrier\n",
            "Cavalier King Charles Spaniel\n",
            "Golden Retriever\n",
            "West Highland White Terrier\n",
            "Boxer\n",
            "Border Terrier"
          ],
          "name": "stdout"
        }
      ]
    },
    {
      "cell_type": "code",
      "metadata": {
        "colab": {
          "base_uri": "https://localhost:8080/"
        },
        "id": "-R0SkBeHhYLO",
        "outputId": "701e065e-4cb6-40ec-a1fe-f736d5faccf1"
      },
      "source": [
        "#Krótsza wersja poprzedniej metody\r\n",
        "with open('jakub_chmielewski.txt', 'r') as reader:\r\n",
        "\r\n",
        "  for line in reader:\r\n",
        "    print(line, end='')\r\n",
        "    "
      ],
      "execution_count": 20,
      "outputs": [
        {
          "output_type": "stream",
          "text": [
            "Pug\n",
            "Jack Russell Terrier\n",
            "English Springer Spaniel\n",
            "German Shepherd\n",
            "Staffordshire Bull Terrier\n",
            "Cavalier King Charles Spaniel\n",
            "Golden Retriever\n",
            "West Highland White Terrier\n",
            "Boxer\n",
            "Border Terrier"
          ],
          "name": "stdout"
        }
      ]
    },
    {
      "cell_type": "code",
      "metadata": {
        "colab": {
          "base_uri": "https://localhost:8080/"
        },
        "id": "MIkh5MW6h5In",
        "outputId": "a4aefaa3-3b89-4fb8-b124-b048422c3e8c"
      },
      "source": [
        "#Metoda zwracająca rasy psów z pliku do zmiennej\r\n",
        "with open('jakub_chmielewski.txt', 'r') as reader:\r\n",
        "    \r\n",
        "    dog_breeds = reader.readlines()\r\n",
        "\r\n",
        "\r\n",
        "with open('jakub_chmielewski_reversed.txt', 'w') as writer:\r\n",
        "    \r\n",
        "    # pętla zapisująca rasy psów linia po linii ze zmiennej do pliku\r\n",
        "  for breed in reversed(dog_breeds):\r\n",
        "    writer.write(breed)\r\n",
        "\r\n",
        "#wypisanie całego pliku\r\n",
        "with open('jakub_chmielewski.txt', 'r') as reader:\r\n",
        "\r\n",
        "  for line in reader:\r\n",
        "    print(line, end='')\r\n"
      ],
      "execution_count": 5,
      "outputs": [
        {
          "output_type": "stream",
          "text": [
            "Pug\n",
            "Jack Russell Terrier\n",
            "English Springer Spaniel\n",
            "German Shepherd\n",
            "Staffordshire Bull Terrier\n",
            "Cavalier King Charles Spaniel\n",
            "Golden Retriever\n",
            "West Highland White Terrier\n",
            "Boxer\n",
            "Border Terrier"
          ],
          "name": "stdout"
        }
      ]
    },
    {
      "cell_type": "code",
      "metadata": {
        "colab": {
          "base_uri": "https://localhost:8080/"
        },
        "id": "id2oJjAfj8o6",
        "outputId": "9d41c6e3-cd43-4d1f-a69f-8ba02fb2ccdc"
      },
      "source": [
        "#Wypisanie pierwszej linii pliku używając formatu bitowego\r\n",
        "with open('jakub_chmielewski.txt', 'rb') as reader:\r\n",
        "  print(reader.readline())\r\n",
        "  "
      ],
      "execution_count": 7,
      "outputs": [
        {
          "output_type": "stream",
          "text": [
            "b'Pug\\r\\n'\n"
          ],
          "name": "stdout"
        }
      ]
    },
    {
      "cell_type": "code",
      "metadata": {
        "colab": {
          "base_uri": "https://localhost:8080/"
        },
        "id": "gu9ZvFeNkXyB",
        "outputId": "c7d6ffb6-c2a4-43b6-ecc0-29e6c9fa2adc"
      },
      "source": [
        "#Wyświetlenie kilku bitów pliku png\r\n",
        "with open('jakub_chmielewski.png', 'rb') as byte_reader:\r\n",
        "  print(byte_reader.read(1))\r\n",
        "  print(byte_reader.read(3))\r\n",
        "  print(byte_reader.read(2))\r\n",
        "  print(byte_reader.read(1))\r\n",
        "  print(byte_reader.read(1))\r\n",
        "  "
      ],
      "execution_count": 11,
      "outputs": [
        {
          "output_type": "stream",
          "text": [
            "b'\\x89'\n",
            "b'PNG'\n",
            "b'\\r\\n'\n",
            "b'\\x1a'\n",
            "b'\\n'\n"
          ],
          "name": "stdout"
        }
      ]
    },
    {
      "cell_type": "code",
      "metadata": {
        "colab": {
          "base_uri": "https://localhost:8080/",
          "height": 134
        },
        "id": "6AVOrpYymIU1",
        "outputId": "b1b47547-9106-4d50-9a9f-aa6d2bdd2be0"
      },
      "source": [
        ""
      ],
      "execution_count": 10,
      "outputs": [
        {
          "output_type": "error",
          "ename": "IndentationError",
          "evalue": "ignored",
          "traceback": [
            "\u001b[0;36m  File \u001b[0;32m\"<ipython-input-10-c43feba5c3b8>\"\u001b[0;36m, line \u001b[0;32m18\u001b[0m\n\u001b[0;31m    r_str = input_str.replace('\\r\\n', '\\n')\u001b[0m\n\u001b[0m    ^\u001b[0m\n\u001b[0;31mIndentationError\u001b[0m\u001b[0;31m:\u001b[0m unexpected indent\n"
          ]
        }
      ]
    }
  ]
}