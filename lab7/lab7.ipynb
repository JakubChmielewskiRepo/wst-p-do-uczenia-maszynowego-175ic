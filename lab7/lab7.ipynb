{
  "nbformat": 4,
  "nbformat_minor": 0,
  "metadata": {
    "colab": {
      "name": "lab7.ipynb",
      "provenance": [],
      "authorship_tag": "ABX9TyMmuFjgpS5eSybCmXHcK4NH",
      "include_colab_link": true
    },
    "kernelspec": {
      "name": "python3",
      "display_name": "Python 3"
    }
  },
  "cells": [
    {
      "cell_type": "markdown",
      "metadata": {
        "id": "view-in-github",
        "colab_type": "text"
      },
      "source": [
        "<a href=\"https://colab.research.google.com/github/JakubChmielewskiRepo/wstep-do-uczenia-maszynowego-175ic/blob/master/lab7/lab7.ipynb\" target=\"_parent\"><img src=\"https://colab.research.google.com/assets/colab-badge.svg\" alt=\"Open In Colab\"/></a>"
      ]
    },
    {
      "cell_type": "code",
      "metadata": {
        "id": "TdftTyu20qPY"
      },
      "source": [
        "# Funkcja aktywacyjna bramki AND\r\n",
        "def activation(x):\r\n",
        "    if x >= 0:\r\n",
        "      return 1\r\n",
        "    else:\r\n",
        "      return 0"
      ],
      "execution_count": 2,
      "outputs": []
    },
    {
      "cell_type": "code",
      "metadata": {
        "colab": {
          "base_uri": "https://localhost:8080/"
        },
        "id": "9i3eaj9S08fc",
        "outputId": "97d1715e-bf9e-44d2-fd4a-fce9c509c356"
      },
      "source": [
        "#Bramka AND\r\n",
        "print(\"----------------------------------\")\r\n",
        "print(\"x1||x2||bias_unit||(-1.5+x1+x2)||a\")\r\n",
        "print(\"----------------------------------\")\r\n",
        "for i in range(1,5):\r\n",
        "\r\n",
        "  if i==1:\r\n",
        "    x1=0\r\n",
        "    x2=0\r\n",
        "\r\n",
        "  if i==2:\r\n",
        "    x1=0\r\n",
        "    x2=1\r\n",
        "\r\n",
        "  if i==3:\r\n",
        "    x1=1\r\n",
        "    x2=0\r\n",
        "\r\n",
        "  if i==4:\r\n",
        "    x1=1\r\n",
        "    x2=1\r\n",
        "\r\n",
        "  bias_unit = -1.5\r\n",
        "  suma=(x1 + x2 + bias_unit)\r\n",
        "  a=activation(suma)\r\n",
        "  print(''+str(x1)+' ||'+str(x2)+' || '+str(bias_unit)+\"       ||\"+str(suma)+\"        || \"+str(a))"
      ],
      "execution_count": 14,
      "outputs": [
        {
          "output_type": "stream",
          "text": [
            "----------------------------------\n",
            "x1||x2||bias_unit||(-1.5+x1+x2)||a\n",
            "----------------------------------\n",
            "0 ||0 || -1.5       ||-1.5        || 0\n",
            "0 ||1 || -1.5       ||-0.5        || 0\n",
            "1 ||0 || -1.5       ||-0.5        || 0\n",
            "1 ||1 || -1.5       ||0.5        || 1\n"
          ],
          "name": "stdout"
        }
      ]
    },
    {
      "cell_type": "code",
      "metadata": {
        "colab": {
          "base_uri": "https://localhost:8080/"
        },
        "id": "J9lVq6FD_gSY",
        "outputId": "db5779ab-8e08-4161-889b-a44437cd651d"
      },
      "source": [
        "#Bramka OR\r\n",
        "print(\"----------------------------------\")\r\n",
        "print(\"x1||x2||bias_unit||(-1.5+x1+x2)||a\")\r\n",
        "print(\"----------------------------------\")\r\n",
        "for i in range(1,5):\r\n",
        "\r\n",
        "  if i==1:\r\n",
        "    x1=0\r\n",
        "    x2=0\r\n",
        "\r\n",
        "  if i==2:\r\n",
        "    x1=0\r\n",
        "    x2=1\r\n",
        "\r\n",
        "  if i==3:\r\n",
        "    x1=1\r\n",
        "    x2=0\r\n",
        "\r\n",
        "  if i==4:\r\n",
        "    x1=1\r\n",
        "    x2=1\r\n",
        "\r\n",
        "  bias_unit = -0.5\r\n",
        "  suma=(x1 + x2 + bias_unit)\r\n",
        "  a=activation(suma)\r\n",
        "  print(''+str(x1)+' ||'+str(x2)+' || '+str(bias_unit)+\"    ||\"+str(suma)+\"         || \"+str(a))"
      ],
      "execution_count": 21,
      "outputs": [
        {
          "output_type": "stream",
          "text": [
            "----------------------------------\n",
            "x1||x2||bias_unit||(-1.5+x1+x2)||a\n",
            "----------------------------------\n",
            "0 ||0 || -0.5    ||-0.5         || 0\n",
            "0 ||1 || -0.5    ||0.5         || 1\n",
            "1 ||0 || -0.5    ||0.5         || 1\n",
            "1 ||1 || -0.5    ||1.5         || 1\n"
          ],
          "name": "stdout"
        }
      ]
    },
    {
      "cell_type": "code",
      "metadata": {
        "colab": {
          "base_uri": "https://localhost:8080/"
        },
        "id": "xq3Gum4qAqOe",
        "outputId": "ed13d4ea-8d2b-454d-de36-b42c761a76b7"
      },
      "source": [
        "#Bramka NOT\r\n",
        "print(\"-------------------------\")\r\n",
        "print(\"x1||bias_unit||(1-2*x1)||a\")\r\n",
        "print(\"-------------------------\")\r\n",
        "for i in range(1,3):\r\n",
        "\r\n",
        "  if i==1:\r\n",
        "    x1=0\r\n",
        "    \r\n",
        "\r\n",
        "  if i==2:\r\n",
        "    x1=1\r\n",
        "   \r\n",
        "  bias_unit = 1\r\n",
        "  suma=(-(2*x1) + bias_unit)\r\n",
        "  a=activation(suma)\r\n",
        "  print(''+str(x1)+' ||'+str(bias_unit)+\"        ||\"+str(suma)+\"       || \"+str(a))"
      ],
      "execution_count": 17,
      "outputs": [
        {
          "output_type": "stream",
          "text": [
            "-------------------------\n",
            "x1||bias_unit||(1-2*x1)||a\n",
            "-------------------------\n",
            "0 ||1        ||1       || 1\n",
            "1 ||1        ||-1       || 0\n"
          ],
          "name": "stdout"
        }
      ]
    },
    {
      "cell_type": "code",
      "metadata": {
        "colab": {
          "base_uri": "https://localhost:8080/"
        },
        "id": "phQoFZYZC89D",
        "outputId": "e7053818-5477-4adc-b233-2124b9d73c71"
      },
      "source": [
        "#Bramka XOR\r\n",
        "print(\"----------------------------------\")\r\n",
        "print(\"x1||x2|| a\")\r\n",
        "print(\"----------------------------------\")\r\n",
        "for i in range(1,5):\r\n",
        "\r\n",
        "  if i==1:\r\n",
        "    x1=0\r\n",
        "    x2=0\r\n",
        "\r\n",
        "  if i==2:\r\n",
        "    x1=0\r\n",
        "    x2=1\r\n",
        "\r\n",
        "  if i==3:\r\n",
        "    x1=1\r\n",
        "    x2=0\r\n",
        "\r\n",
        "  if i==4:\r\n",
        "    x1=1\r\n",
        "    x2=1\r\n",
        "\r\n",
        "\r\n",
        "  #Warstwa pierwsza:\r\n",
        "\r\n",
        "  #NOT x1\r\n",
        "  bias_unit=1\r\n",
        "  suma=(bias_unit -(2*x1))\r\n",
        "  a1=activation(suma)\r\n",
        "\r\n",
        "  #NOT x2\r\n",
        "  bias_unit=1\r\n",
        "  suma=(bias_unit -(2*x2))\r\n",
        "  a2=activation(suma)\r\n",
        "\r\n",
        "  #Warstwa druga:\r\n",
        "\r\n",
        "  #BRAMKA OR x1,x2\r\n",
        "  bias_unit = -0.5\r\n",
        "  suma=(x1 + x2 + bias_unit)\r\n",
        "  a3=activation(suma)\r\n",
        "\r\n",
        "  #BRAMKA OR NOT x1,NOT x2\r\n",
        "  bias_unit = -0.5\r\n",
        "  suma=(a1 + a2 + bias_unit)\r\n",
        "  a4=activation(suma)\r\n",
        "\r\n",
        "  #Warstwa trzecia:\r\n",
        "\r\n",
        "  #BRAMKA AND(OR(x1,x2),OR(NOT x1,NOT x2)\r\n",
        "  bias_unit = -1.5\r\n",
        "  suma=(a3 + a4 + bias_unit)\r\n",
        "  a=activation(suma)\r\n",
        "  print(''+str(x1)+' ||'+str(x2)+\" || \"+str(a))"
      ],
      "execution_count": 25,
      "outputs": [
        {
          "output_type": "stream",
          "text": [
            "----------------------------------\n",
            "x1||x2|| a\n",
            "----------------------------------\n",
            "0 ||0 || 0\n",
            "0 ||1 || 1\n",
            "1 ||0 || 1\n",
            "1 ||1 || 0\n"
          ],
          "name": "stdout"
        }
      ]
    },
    {
      "cell_type": "code",
      "metadata": {
        "colab": {
          "base_uri": "https://localhost:8080/"
        },
        "id": "l1hUkUyvMcTy",
        "outputId": "727526a8-04ae-46c1-8d68-56ef29e886d0"
      },
      "source": [
        "#Bramka XNOR\r\n",
        "\r\n",
        "print(\"----------------------------------\")\r\n",
        "print(\"x1||x2|| a\")\r\n",
        "print(\"----------------------------------\")\r\n",
        "for i in range(1,5):\r\n",
        "\r\n",
        "  if i==1:\r\n",
        "    x1=0\r\n",
        "    x2=0\r\n",
        "\r\n",
        "  if i==2:\r\n",
        "    x1=0\r\n",
        "    x2=1\r\n",
        "\r\n",
        "  if i==3:\r\n",
        "    x1=1\r\n",
        "    x2=0\r\n",
        "\r\n",
        "  if i==4:\r\n",
        "    x1=1\r\n",
        "    x2=1\r\n",
        "\r\n",
        "\r\n",
        "  #Warstwa pierwsza:\r\n",
        "\r\n",
        "  #NOT x1\r\n",
        "  bias_unit=1\r\n",
        "  suma=(bias_unit -(2*x1))\r\n",
        "  a1=activation(suma)\r\n",
        "\r\n",
        "  #NOT x2\r\n",
        "  bias_unit=1\r\n",
        "  suma=(bias_unit -(2*x2))\r\n",
        "  a2=activation(suma)\r\n",
        "\r\n",
        "  #Warstwa druga:\r\n",
        "\r\n",
        "  #BRAMKA OR x1,x2\r\n",
        "  bias_unit = -0.5\r\n",
        "  suma=(x1 + x2 + bias_unit)\r\n",
        "  a3=activation(suma)\r\n",
        "\r\n",
        "  #BRAMKA OR NOT x1,NOT x2\r\n",
        "  bias_unit = -0.5\r\n",
        "  suma=(a1 + a2 + bias_unit)\r\n",
        "  a4=activation(suma)\r\n",
        "\r\n",
        "  #Warstwa trzecia:\r\n",
        "\r\n",
        "  #BRAMKA AND(OR(x1,x2),OR(NOT x1,NOT x2)\r\n",
        "  bias_unit = -1.5\r\n",
        "  suma=(a3 + a4 + bias_unit)\r\n",
        "  a5=activation(suma)\r\n",
        "\r\n",
        "  #Warstwa czwarta:\r\n",
        "  #BRAMKA NOT(AND(OR(x1,x2),OR(NOT x1,NOT x2))\r\n",
        "  bias_unit=1\r\n",
        "  suma=(bias_unit -(2*a5))\r\n",
        "  a=activation(suma)\r\n",
        "  print(''+str(x1)+' ||'+str(x2)+\" || \"+str(a))"
      ],
      "execution_count": 24,
      "outputs": [
        {
          "output_type": "stream",
          "text": [
            "----------------------------------\n",
            "x1||x2|| a\n",
            "----------------------------------\n",
            "0 ||0 || 1\n",
            "0 ||1 || 0\n",
            "1 ||0 || 0\n",
            "1 ||1 || 1\n"
          ],
          "name": "stdout"
        }
      ]
    }
  ]
}