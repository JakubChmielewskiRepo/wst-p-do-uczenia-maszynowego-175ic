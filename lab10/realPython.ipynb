{
  "nbformat": 4,
  "nbformat_minor": 0,
  "metadata": {
    "colab": {
      "name": "Untitled13.ipynb",
      "provenance": [],
      "authorship_tag": "ABX9TyOZbHD8+YMhjq+AX+PZixLU",
      "include_colab_link": true
    },
    "kernelspec": {
      "name": "python3",
      "display_name": "Python 3"
    }
  },
  "cells": [
    {
      "cell_type": "markdown",
      "metadata": {
        "id": "view-in-github",
        "colab_type": "text"
      },
      "source": [
        "<a href=\"https://colab.research.google.com/github/JakubChmielewskiRepo/wstep-do-uczenia-maszynowego-175ic/blob/master/lab10/realPython.ipynb\" target=\"_parent\"><img src=\"https://colab.research.google.com/assets/colab-badge.svg\" alt=\"Open In Colab\"/></a>"
      ]
    },
    {
      "cell_type": "code",
      "metadata": {
        "colab": {
          "base_uri": "https://localhost:8080/"
        },
        "id": "kA4gpKOqf6kP",
        "outputId": "d33536f6-4591-4d4d-c06b-3d0cb568e456"
      },
      "source": [
        "#!pip install aiohttp\r\n",
        "import time\r\n",
        "import nest_asyncio\r\n",
        "import requests\r\n",
        "import threading\r\n",
        "import json\r\n",
        "from urllib import request\r\n",
        "import multiprocessing\r\n",
        "import  aiohttp, asyncio\r\n",
        "import concurrent.futures\r\n",
        "\r\n"
      ],
      "execution_count": 14,
      "outputs": [
        {
          "output_type": "stream",
          "text": [
            "Requirement already satisfied: nest_asyncio in /usr/local/lib/python3.6/dist-packages (1.5.1)\n"
          ],
          "name": "stdout"
        }
      ]
    },
    {
      "cell_type": "code",
      "metadata": {
        "colab": {
          "base_uri": "https://localhost:8080/"
        },
        "id": "TGSMYXs9gigJ",
        "outputId": "ab4c8c1a-bf38-4142-a0d3-1cf7a7b1b0a5"
      },
      "source": [
        "#Synchronicznie\r\n",
        "def download_site(url, session):\r\n",
        "    with session.get(url) as response:\r\n",
        "        print(f\"Read {len(response.content)} from {url}\")\r\n",
        "\r\n",
        "\r\n",
        "def download_all_sites(sites):\r\n",
        "    with requests.Session() as session:\r\n",
        "        for url in sites:\r\n",
        "            download_site(url, session)\r\n",
        "\r\n",
        "\r\n",
        "if __name__ == \"__main__\":\r\n",
        "    sites = [\r\n",
        "        \"https://www.jython.org\",\r\n",
        "        \"http://olympus.realpython.org/dice\",\r\n",
        "    ] * 80\r\n",
        "    start_time = time.time()\r\n",
        "    download_all_sites(sites)\r\n",
        "    duration = time.time() - start_time\r\n",
        "    print(f\"Downloaded {len(sites)} in {duration} seconds\")"
      ],
      "execution_count": 6,
      "outputs": [
        {
          "output_type": "stream",
          "text": [
            "Read 10394 from https://www.jython.org\n",
            "Read 277 from http://olympus.realpython.org/dice\n",
            "Read 10394 from https://www.jython.org\n",
            "Read 277 from http://olympus.realpython.org/dice\n",
            "Read 10394 from https://www.jython.org\n",
            "Read 277 from http://olympus.realpython.org/dice\n",
            "Read 10394 from https://www.jython.org\n",
            "Read 277 from http://olympus.realpython.org/dice\n",
            "Read 10394 from https://www.jython.org\n",
            "Read 277 from http://olympus.realpython.org/dice\n",
            "Read 10394 from https://www.jython.org\n",
            "Read 277 from http://olympus.realpython.org/dice\n",
            "Read 10394 from https://www.jython.org\n",
            "Read 277 from http://olympus.realpython.org/dice\n",
            "Read 10394 from https://www.jython.org\n",
            "Read 277 from http://olympus.realpython.org/dice\n",
            "Read 10394 from https://www.jython.org\n",
            "Read 277 from http://olympus.realpython.org/dice\n",
            "Read 10394 from https://www.jython.org\n",
            "Read 277 from http://olympus.realpython.org/dice\n",
            "Read 10394 from https://www.jython.org\n",
            "Read 277 from http://olympus.realpython.org/dice\n",
            "Read 10394 from https://www.jython.org\n",
            "Read 277 from http://olympus.realpython.org/dice\n",
            "Read 10394 from https://www.jython.org\n",
            "Read 277 from http://olympus.realpython.org/dice\n",
            "Read 10394 from https://www.jython.org\n",
            "Read 277 from http://olympus.realpython.org/dice\n",
            "Read 10394 from https://www.jython.org\n",
            "Read 277 from http://olympus.realpython.org/dice\n",
            "Read 10394 from https://www.jython.org\n",
            "Read 277 from http://olympus.realpython.org/dice\n",
            "Read 10394 from https://www.jython.org\n",
            "Read 277 from http://olympus.realpython.org/dice\n",
            "Read 10394 from https://www.jython.org\n",
            "Read 277 from http://olympus.realpython.org/dice\n",
            "Read 10394 from https://www.jython.org\n",
            "Read 277 from http://olympus.realpython.org/dice\n",
            "Read 10394 from https://www.jython.org\n",
            "Read 277 from http://olympus.realpython.org/dice\n",
            "Read 10394 from https://www.jython.org\n",
            "Read 277 from http://olympus.realpython.org/dice\n",
            "Read 10394 from https://www.jython.org\n",
            "Read 277 from http://olympus.realpython.org/dice\n",
            "Read 10394 from https://www.jython.org\n",
            "Read 277 from http://olympus.realpython.org/dice\n",
            "Read 10394 from https://www.jython.org\n",
            "Read 277 from http://olympus.realpython.org/dice\n",
            "Read 10394 from https://www.jython.org\n",
            "Read 277 from http://olympus.realpython.org/dice\n",
            "Read 10394 from https://www.jython.org\n",
            "Read 277 from http://olympus.realpython.org/dice\n",
            "Read 10394 from https://www.jython.org\n",
            "Read 277 from http://olympus.realpython.org/dice\n",
            "Read 10394 from https://www.jython.org\n",
            "Read 277 from http://olympus.realpython.org/dice\n",
            "Read 10394 from https://www.jython.org\n",
            "Read 277 from http://olympus.realpython.org/dice\n",
            "Read 10394 from https://www.jython.org\n",
            "Read 277 from http://olympus.realpython.org/dice\n",
            "Read 10394 from https://www.jython.org\n",
            "Read 277 from http://olympus.realpython.org/dice\n",
            "Read 10394 from https://www.jython.org\n",
            "Read 277 from http://olympus.realpython.org/dice\n",
            "Read 10394 from https://www.jython.org\n",
            "Read 277 from http://olympus.realpython.org/dice\n",
            "Read 10394 from https://www.jython.org\n",
            "Read 277 from http://olympus.realpython.org/dice\n",
            "Read 10394 from https://www.jython.org\n",
            "Read 277 from http://olympus.realpython.org/dice\n",
            "Read 10394 from https://www.jython.org\n",
            "Read 277 from http://olympus.realpython.org/dice\n",
            "Read 10394 from https://www.jython.org\n",
            "Read 277 from http://olympus.realpython.org/dice\n",
            "Read 10394 from https://www.jython.org\n",
            "Read 277 from http://olympus.realpython.org/dice\n",
            "Read 10394 from https://www.jython.org\n",
            "Read 277 from http://olympus.realpython.org/dice\n",
            "Read 10394 from https://www.jython.org\n",
            "Read 277 from http://olympus.realpython.org/dice\n",
            "Read 10394 from https://www.jython.org\n",
            "Read 277 from http://olympus.realpython.org/dice\n",
            "Read 10394 from https://www.jython.org\n",
            "Read 277 from http://olympus.realpython.org/dice\n",
            "Read 10394 from https://www.jython.org\n",
            "Read 277 from http://olympus.realpython.org/dice\n",
            "Read 10394 from https://www.jython.org\n",
            "Read 277 from http://olympus.realpython.org/dice\n",
            "Read 10394 from https://www.jython.org\n",
            "Read 277 from http://olympus.realpython.org/dice\n",
            "Read 10394 from https://www.jython.org\n",
            "Read 277 from http://olympus.realpython.org/dice\n",
            "Read 10394 from https://www.jython.org\n",
            "Read 277 from http://olympus.realpython.org/dice\n",
            "Read 10394 from https://www.jython.org\n",
            "Read 277 from http://olympus.realpython.org/dice\n",
            "Read 10394 from https://www.jython.org\n",
            "Read 277 from http://olympus.realpython.org/dice\n",
            "Read 10394 from https://www.jython.org\n",
            "Read 277 from http://olympus.realpython.org/dice\n",
            "Read 10394 from https://www.jython.org\n",
            "Read 277 from http://olympus.realpython.org/dice\n",
            "Read 10394 from https://www.jython.org\n",
            "Read 277 from http://olympus.realpython.org/dice\n",
            "Read 10394 from https://www.jython.org\n",
            "Read 277 from http://olympus.realpython.org/dice\n",
            "Read 10394 from https://www.jython.org\n",
            "Read 277 from http://olympus.realpython.org/dice\n",
            "Read 10394 from https://www.jython.org\n",
            "Read 277 from http://olympus.realpython.org/dice\n",
            "Read 10394 from https://www.jython.org\n",
            "Read 277 from http://olympus.realpython.org/dice\n",
            "Read 10394 from https://www.jython.org\n",
            "Read 277 from http://olympus.realpython.org/dice\n",
            "Read 10394 from https://www.jython.org\n",
            "Read 277 from http://olympus.realpython.org/dice\n",
            "Read 10394 from https://www.jython.org\n",
            "Read 277 from http://olympus.realpython.org/dice\n",
            "Read 10394 from https://www.jython.org\n",
            "Read 277 from http://olympus.realpython.org/dice\n",
            "Read 10394 from https://www.jython.org\n",
            "Read 277 from http://olympus.realpython.org/dice\n",
            "Read 10394 from https://www.jython.org\n",
            "Read 277 from http://olympus.realpython.org/dice\n",
            "Read 10394 from https://www.jython.org\n",
            "Read 277 from http://olympus.realpython.org/dice\n",
            "Read 10394 from https://www.jython.org\n",
            "Read 277 from http://olympus.realpython.org/dice\n",
            "Read 10394 from https://www.jython.org\n",
            "Read 277 from http://olympus.realpython.org/dice\n",
            "Read 10394 from https://www.jython.org\n",
            "Read 277 from http://olympus.realpython.org/dice\n",
            "Read 10394 from https://www.jython.org\n",
            "Read 277 from http://olympus.realpython.org/dice\n",
            "Read 10394 from https://www.jython.org\n",
            "Read 277 from http://olympus.realpython.org/dice\n",
            "Read 10394 from https://www.jython.org\n",
            "Read 277 from http://olympus.realpython.org/dice\n",
            "Read 10394 from https://www.jython.org\n",
            "Read 277 from http://olympus.realpython.org/dice\n",
            "Read 10394 from https://www.jython.org\n",
            "Read 277 from http://olympus.realpython.org/dice\n",
            "Read 10394 from https://www.jython.org\n",
            "Read 277 from http://olympus.realpython.org/dice\n",
            "Read 10394 from https://www.jython.org\n",
            "Read 277 from http://olympus.realpython.org/dice\n",
            "Read 10394 from https://www.jython.org\n",
            "Read 277 from http://olympus.realpython.org/dice\n",
            "Read 10394 from https://www.jython.org\n",
            "Read 277 from http://olympus.realpython.org/dice\n",
            "Read 10394 from https://www.jython.org\n",
            "Read 277 from http://olympus.realpython.org/dice\n",
            "Read 10394 from https://www.jython.org\n",
            "Read 277 from http://olympus.realpython.org/dice\n",
            "Read 10394 from https://www.jython.org\n",
            "Read 277 from http://olympus.realpython.org/dice\n",
            "Read 10394 from https://www.jython.org\n",
            "Read 277 from http://olympus.realpython.org/dice\n",
            "Read 10394 from https://www.jython.org\n",
            "Read 277 from http://olympus.realpython.org/dice\n",
            "Downloaded 160 in 8.690134286880493 seconds\n"
          ],
          "name": "stdout"
        }
      ]
    },
    {
      "cell_type": "code",
      "metadata": {
        "colab": {
          "base_uri": "https://localhost:8080/"
        },
        "id": "4CMmN9W9iH-t",
        "outputId": "63e1f953-232c-42c3-c5aa-d105f0254395"
      },
      "source": [
        "#Z wątkami\r\n",
        "\r\n",
        "thread_local = threading.local()\r\n",
        "\r\n",
        "def get_session():\r\n",
        "    if not hasattr(thread_local, \"session\"):\r\n",
        "        thread_local.session = requests.Session()\r\n",
        "    return thread_local.session\r\n",
        "\r\n",
        "\r\n",
        "def download_site(url):\r\n",
        "    session = get_session()\r\n",
        "    with session.get(url) as response:\r\n",
        "        session.get(url)\r\n",
        "\r\n",
        "\r\n",
        "def download_all_sites(sites):\r\n",
        "    with concurrent.futures.ThreadPoolExecutor(max_workers=5) as executor:\r\n",
        "        executor.map(download_site, sites)\r\n",
        "\r\n",
        "\r\n",
        "if __name__ == \"__main__\":\r\n",
        "    sites = [\r\n",
        "        \"https://www.jython.org\",\r\n",
        "        \"http://olympus.realpython.org/dice\",\r\n",
        "    ] * 80\r\n",
        "    start_time = time.time()\r\n",
        "    download_all_sites(sites)\r\n",
        "    duration_thread = time.time() - start_time\r\n",
        "    print(f\"Downloaded {len(sites)} in {duration_thread} seconds\")"
      ],
      "execution_count": 11,
      "outputs": [
        {
          "output_type": "stream",
          "text": [
            "Downloaded 160 in 2.904771089553833 seconds\n"
          ],
          "name": "stdout"
        }
      ]
    },
    {
      "cell_type": "code",
      "metadata": {
        "colab": {
          "base_uri": "https://localhost:8080/"
        },
        "id": "x6nCKnVbihrx",
        "outputId": "4fd2e11d-dac6-4c28-a3ce-40f103962ea9"
      },
      "source": [
        "#Asyncio\r\n",
        "async def download_all_sites(sites):\r\n",
        "    async with aiohttp.ClientSession() as session:\r\n",
        "        tasks = []\r\n",
        "        for url in sites:\r\n",
        "            task = asyncio.ensure_future(session.get(url))\r\n",
        "            tasks.append(task)\r\n",
        "        await asyncio.gather(*tasks, return_exceptions=True)\r\n",
        "\r\n",
        "\r\n",
        "if __name__ == \"__main__\":\r\n",
        "    sites = [\r\n",
        "        \"https://www.jython.org\",\r\n",
        "        \"http://olympus.realpython.org/dice\",\r\n",
        "    ] * 80\r\n",
        "    start_time = time.time()\r\n",
        "    nest_asyncio.apply()\r\n",
        "    asyncio.run(download_all_sites(sites))\r\n",
        "    duration_asyncio = time.time() - start_time\r\n",
        "    print(f\"Downloaded {len(sites)} sites in {duration_asyncio} seconds\")"
      ],
      "execution_count": 16,
      "outputs": [
        {
          "output_type": "stream",
          "text": [
            "Downloaded 160 sites in 0.4126293659210205 seconds\n"
          ],
          "name": "stdout"
        }
      ]
    },
    {
      "cell_type": "code",
      "metadata": {
        "colab": {
          "base_uri": "https://localhost:8080/"
        },
        "id": "RUs2ApIki-1D",
        "outputId": "f9fa2f97-4f3f-4f39-d51f-a2ed0aec7510"
      },
      "source": [
        "#Multiprocessing\r\n",
        "\r\n",
        "session = None\r\n",
        "\r\n",
        "\r\n",
        "def set_global_session():\r\n",
        "    global session\r\n",
        "    if not session:\r\n",
        "        session = requests.Session()\r\n",
        "\r\n",
        "\r\n",
        "def download_site(url):\r\n",
        "    with session.get(url) as response:\r\n",
        "        name = multiprocessing.current_process().name\r\n",
        "        session.get(url)\r\n",
        "\r\n",
        "\r\n",
        "def download_all_sites(sites):\r\n",
        "    with multiprocessing.Pool(initializer=set_global_session) as pool:\r\n",
        "        pool.map(download_site, sites)\r\n",
        "\r\n",
        "\r\n",
        "if __name__ == \"__main__\":\r\n",
        "    sites = [\r\n",
        "        \"https://www.jython.org\",\r\n",
        "        \"http://olympus.realpython.org/dice\",\r\n",
        "    ] * 80\r\n",
        "    start_time = time.time()\r\n",
        "    download_all_sites(sites)\r\n",
        "    duration_multiproc = time.time() - start_time\r\n",
        "    print(f\"Downloaded {len(sites)} in {duration_multiproc} seconds\")"
      ],
      "execution_count": 17,
      "outputs": [
        {
          "output_type": "stream",
          "text": [
            "Downloaded 160 in 7.134905576705933 seconds\n"
          ],
          "name": "stdout"
        }
      ]
    },
    {
      "cell_type": "code",
      "metadata": {
        "colab": {
          "base_uri": "https://localhost:8080/"
        },
        "id": "S4p2JFAMk9jL",
        "outputId": "94f68e9f-c4c5-4eaf-cd2d-39dd9c006fc0"
      },
      "source": [
        "#CPU-Bound Synchronous\r\n",
        "\r\n",
        "def cpu_bound(number):\r\n",
        "    return sum(i * i for i in range(number))\r\n",
        "\r\n",
        "\r\n",
        "def find_sums(numbers):\r\n",
        "    for number in numbers:\r\n",
        "        cpu_bound(number)\r\n",
        "\r\n",
        "\r\n",
        "if __name__ == \"__main__\":\r\n",
        "    numbers = [5_000_000 + x for x in range(20)]\r\n",
        "\r\n",
        "    start_time = time.time()\r\n",
        "    find_sums(numbers)\r\n",
        "    duration_cpu_synchronous = time.time() - start_time\r\n",
        "    print(f\"Duration {duration_cpu_synchronous} seconds\")"
      ],
      "execution_count": 19,
      "outputs": [
        {
          "output_type": "stream",
          "text": [
            "Duration 9.38219165802002 seconds\n"
          ],
          "name": "stdout"
        }
      ]
    },
    {
      "cell_type": "code",
      "metadata": {
        "colab": {
          "base_uri": "https://localhost:8080/"
        },
        "id": "l75eCqNGlGHU",
        "outputId": "5eb4c5d9-d5af-4da4-abec-b01c925d9022"
      },
      "source": [
        "#CPU-Bound multiprocessing\r\n",
        "def cpu_bound(number):\r\n",
        "    return sum(i * i for i in range(number))\r\n",
        "\r\n",
        "\r\n",
        "def find_sums(numbers):\r\n",
        "    with multiprocessing.Pool() as pool:\r\n",
        "        pool.map(cpu_bound, numbers)\r\n",
        "\r\n",
        "\r\n",
        "if __name__ == \"__main__\":\r\n",
        "    numbers = [5_000_000 + x for x in range(20)]\r\n",
        "\r\n",
        "    start_time = time.time()\r\n",
        "    find_sums(numbers)\r\n",
        "    duration_cpu_multiprocessing = time.time() - start_time\r\n",
        "    print(f\"Duration {duration_cpu_multiprocessing} seconds\")"
      ],
      "execution_count": 20,
      "outputs": [
        {
          "output_type": "stream",
          "text": [
            "Duration 10.347258806228638 seconds\n"
          ],
          "name": "stdout"
        }
      ]
    },
    {
      "cell_type": "code",
      "metadata": {
        "colab": {
          "base_uri": "https://localhost:8080/"
        },
        "id": "sE_kuIEGlXfn",
        "outputId": "b52f4d6b-9ee8-49fd-c88b-78556964cfae"
      },
      "source": [
        "#Speed comparison\r\n",
        "print(f\"Synchronic: {duration} seconds\")\r\n",
        "print(f\"Threading: {duration_thread} seconds\")\r\n",
        "print(f\"Asyncio: {duration_asyncio} seconds\")\r\n",
        "print(f\"Multiprocessing: {duration_multiproc} seconds\")\r\n",
        "print(f\"CPU-Bound Synchronous {duration_cpu_synchronous} seconds\")\r\n",
        "print(f\"CPU-Bound multiprocessing {duration_cpu_multiprocessing} seconds\")"
      ],
      "execution_count": 24,
      "outputs": [
        {
          "output_type": "stream",
          "text": [
            "Synchronic: 8.690134286880493 seconds\n",
            "Threading: 2.904771089553833 seconds\n",
            "Asyncio: 0.4126293659210205 seconds\n",
            "Multiprocessing: 7.134905576705933 seconds\n",
            "CPU-Bound Synchronous 9.38219165802002 seconds\n",
            "CPU-Bound multiprocessing 10.347258806228638 seconds\n"
          ],
          "name": "stdout"
        }
      ]
    }
  ]
}