{
  "nbformat": 4,
  "nbformat_minor": 0,
  "metadata": {
    "colab": {
      "name": "Untitled14.ipynb",
      "provenance": [],
      "authorship_tag": "ABX9TyMGYQoNix+e7S+IdbYj+4ZA",
      "include_colab_link": true
    },
    "kernelspec": {
      "name": "python3",
      "display_name": "Python 3"
    }
  },
  "cells": [
    {
      "cell_type": "markdown",
      "metadata": {
        "id": "view-in-github",
        "colab_type": "text"
      },
      "source": [
        "<a href=\"https://colab.research.google.com/github/JakubChmielewskiRepo/wstep-do-uczenia-maszynowego-175ic/blob/master/lab10/stackAbuse.ipynb\" target=\"_parent\"><img src=\"https://colab.research.google.com/assets/colab-badge.svg\" alt=\"Open In Colab\"/></a>"
      ]
    },
    {
      "cell_type": "code",
      "metadata": {
        "colab": {
          "base_uri": "https://localhost:8080/"
        },
        "id": "FZL0KJKkpIID",
        "outputId": "32bafc80-4084-40a8-9b36-aaeaee2b59b3"
      },
      "source": [
        "!pip install aiohttp\r\n",
        "import time\r\n",
        "import nest_asyncio\r\n",
        "import requests\r\n",
        "import json\r\n",
        "from urllib import request\r\n",
        "import multiprocessing\r\n",
        "import asyncio\r\n",
        "import aiohttp\r\n",
        "from concurrent.futures import ThreadPoolExecutor"
      ],
      "execution_count": 3,
      "outputs": [
        {
          "output_type": "stream",
          "text": [
            "Collecting aiohttp\n",
            "\u001b[?25l  Downloading https://files.pythonhosted.org/packages/ad/e6/d4b6235d776c9b33f853e603efede5aac5a34f71ca9d3877adb30492eb4e/aiohttp-3.7.3-cp36-cp36m-manylinux2014_x86_64.whl (1.3MB)\n",
            "\u001b[K     |████████████████████████████████| 1.3MB 6.2MB/s \n",
            "\u001b[?25hRequirement already satisfied: typing-extensions>=3.6.5 in /usr/local/lib/python3.6/dist-packages (from aiohttp) (3.7.4.3)\n",
            "Collecting multidict<7.0,>=4.5\n",
            "\u001b[?25l  Downloading https://files.pythonhosted.org/packages/a1/35/b22524d6b9cacfb4c5eff413a069bbc17c6ea628e54da5c6c989998ced5f/multidict-5.1.0-cp36-cp36m-manylinux2014_x86_64.whl (141kB)\n",
            "\u001b[K     |████████████████████████████████| 143kB 20.0MB/s \n",
            "\u001b[?25hCollecting idna-ssl>=1.0; python_version < \"3.7\"\n",
            "  Downloading https://files.pythonhosted.org/packages/46/03/07c4894aae38b0de52b52586b24bf189bb83e4ddabfe2e2c8f2419eec6f4/idna-ssl-1.1.0.tar.gz\n",
            "Collecting yarl<2.0,>=1.0\n",
            "\u001b[?25l  Downloading https://files.pythonhosted.org/packages/da/08/52b26b44bce7b818b410aee37c5e424c9ea420c557bca97dc2adac29b151/yarl-1.6.3-cp36-cp36m-manylinux2014_x86_64.whl (293kB)\n",
            "\u001b[K     |████████████████████████████████| 296kB 18.0MB/s \n",
            "\u001b[?25hRequirement already satisfied: attrs>=17.3.0 in /usr/local/lib/python3.6/dist-packages (from aiohttp) (20.3.0)\n",
            "Collecting async-timeout<4.0,>=3.0\n",
            "  Downloading https://files.pythonhosted.org/packages/e1/1e/5a4441be21b0726c4464f3f23c8b19628372f606755a9d2e46c187e65ec4/async_timeout-3.0.1-py3-none-any.whl\n",
            "Requirement already satisfied: chardet<4.0,>=2.0 in /usr/local/lib/python3.6/dist-packages (from aiohttp) (3.0.4)\n",
            "Requirement already satisfied: idna>=2.0 in /usr/local/lib/python3.6/dist-packages (from idna-ssl>=1.0; python_version < \"3.7\"->aiohttp) (2.10)\n",
            "Building wheels for collected packages: idna-ssl\n",
            "  Building wheel for idna-ssl (setup.py) ... \u001b[?25l\u001b[?25hdone\n",
            "  Created wheel for idna-ssl: filename=idna_ssl-1.1.0-cp36-none-any.whl size=3163 sha256=06348449b5049fbb897dc6692c7e919d11d75ab8e1bf97f2d978d28c048fc16b\n",
            "  Stored in directory: /root/.cache/pip/wheels/d3/00/b3/32d613e19e08a739751dd6bf998cfed277728f8b2127ad4eb7\n",
            "Successfully built idna-ssl\n",
            "Installing collected packages: multidict, idna-ssl, yarl, async-timeout, aiohttp\n",
            "Successfully installed aiohttp-3.7.3 async-timeout-3.0.1 idna-ssl-1.1.0 multidict-5.1.0 yarl-1.6.3\n"
          ],
          "name": "stdout"
        }
      ]
    },
    {
      "cell_type": "code",
      "metadata": {
        "colab": {
          "base_uri": "https://localhost:8080/"
        },
        "id": "OTY7saADpUEj",
        "outputId": "ea0c0439-4628-455d-a3e1-423e85294af3"
      },
      "source": [
        "#Synchronous\r\n",
        "def download_images():\r\n",
        "    response = requests.get(\"https://picsum.photos/v2/list\")\r\n",
        "    if response.status_code != 200:\r\n",
        "        raise AttributeError('GET /tasks/ {}'.format(response.status_code))\r\n",
        "    data = json.loads(response.text)[:10]\r\n",
        "\r\n",
        "    pictures=[]\r\n",
        "    for s in data:\r\n",
        "        pictures.append(s['download_url']+\".jpg\")\r\n",
        "    return pictures\r\n",
        "\r\n",
        "def saveImages(link):\r\n",
        "    filename = link.split('/')[6].split('.')[0]\r\n",
        "    fileformat = link.split('/')[6].split('.')[1]\r\n",
        "    request.urlretrieve(link, \"images/{}.{}\".format(filename, fileformat))\r\n",
        "\r\n",
        "def main():\r\n",
        "    images = download_images()\r\n",
        "    for image in images:\r\n",
        "        saveImages(image)\r\n",
        "\r\n",
        "start_time = time.time()\r\n",
        "main()\r\n",
        "duration_synch = time.time() - start_time\r\n",
        "print(f\"Time taken: {duration_synch}\")"
      ],
      "execution_count": 17,
      "outputs": [
        {
          "output_type": "stream",
          "text": [
            "Time taken: 9.95365858078003\n"
          ],
          "name": "stdout"
        }
      ]
    },
    {
      "cell_type": "code",
      "metadata": {
        "colab": {
          "base_uri": "https://localhost:8080/"
        },
        "id": "jDr3ZBugsysD",
        "outputId": "2747eb98-deb5-411b-a825-e96e23f58d3c"
      },
      "source": [
        "def process_images_threading():\r\n",
        "    images = download_images()\r\n",
        "    with ThreadPoolExecutor(max_workers=5) as executor:\r\n",
        "        executor.map(saveImages,images)\r\n",
        "\r\n",
        "start_time = time.time()\r\n",
        "process_images_threading()\r\n",
        "duration_multithreading = time.time() - start_time\r\n",
        "print(f\"Time taken: {duration_multithreading}\")"
      ],
      "execution_count": 18,
      "outputs": [
        {
          "output_type": "stream",
          "text": [
            "Time taken: 2.4338181018829346\n"
          ],
          "name": "stdout"
        }
      ]
    },
    {
      "cell_type": "code",
      "metadata": {
        "colab": {
          "base_uri": "https://localhost:8080/"
        },
        "id": "yt5EJMKps6d-",
        "outputId": "167f9326-d431-4c00-9324-a56f6d144f63"
      },
      "source": [
        "async def download_images_asyncio(link, session):\r\n",
        "    filename = link.split('/')[6].split('.')[0]\r\n",
        "    fileformat = link.split('/')[6].split('.')[1]\r\n",
        "    async with session.get(link) as response:\r\n",
        "        with open(\"picture/{}.{}\".format(filename, fileformat), 'wb') as fd:\r\n",
        "            async for data in response.content.iter_chunked(1024):\r\n",
        "                fd.write(data)\r\n",
        "\r\n",
        "async def main_asyncio():\r\n",
        "    images = download_images()\r\n",
        "\r\n",
        "    async with aiohttp.ClientSession() as session:\r\n",
        "        tasks=[download_images_asyncio(image,session)for image in images]\r\n",
        "        return await asyncio.gather(*tasks)\r\n",
        "\r\n",
        "start_time = time.time()\r\n",
        "nest_asyncio.apply()\r\n",
        "asyncio.run(main_asyncio())\r\n",
        "duration_asyncio = time.time() - start_time\r\n",
        "print(f\"Time taken: {duration_asyncio}\")"
      ],
      "execution_count": 19,
      "outputs": [
        {
          "output_type": "stream",
          "text": [
            "Time taken: 1.7198710441589355\n"
          ],
          "name": "stdout"
        }
      ]
    },
    {
      "cell_type": "code",
      "metadata": {
        "colab": {
          "base_uri": "https://localhost:8080/"
        },
        "id": "-gmFuw1is8ke",
        "outputId": "75abb750-0eaf-4a86-b5a0-c686cb0b0937"
      },
      "source": [
        "#Comparison\r\n",
        "print(f\"Synchronous: {duration_synch}\")\r\n",
        "print(f\"Multithreading: {duration_multithreading}\")\r\n",
        "print(f\"Asyncio: {duration_asyncio}\")"
      ],
      "execution_count": 20,
      "outputs": [
        {
          "output_type": "stream",
          "text": [
            "Synchronous: 9.95365858078003\n",
            "Multithreading: 2.4338181018829346\n",
            "Asyncio: 1.7198710441589355\n"
          ],
          "name": "stdout"
        }
      ]
    }
  ]
}